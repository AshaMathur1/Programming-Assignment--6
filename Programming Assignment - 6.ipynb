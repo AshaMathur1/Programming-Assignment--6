{
 "cells": [
  {
   "cell_type": "code",
   "execution_count": null,
   "id": "7fcc81f4",
   "metadata": {},
   "outputs": [],
   "source": [
    "#1.\tWrite a Python Program to Display Fibonacci Sequence Using Recursion?\n",
    "\n",
    "def fibo(n):\n",
    "    if n==0:\n",
    "        return 0\n",
    "    if n==1:\n",
    "        return 1\n",
    "    return(fibo(n-1)+fibo(n-2))\n",
    "\n",
    "Terms =int(input(\"Enter number of terms of Fibonacci sequence:\"))\n",
    "\n",
    "for i in range(0,Terms+1):\n",
    "    print(fibo(i))"
   ]
  },
  {
   "cell_type": "code",
   "execution_count": 9,
   "id": "4a87fe63",
   "metadata": {},
   "outputs": [
    {
     "name": "stdout",
     "output_type": "stream",
     "text": [
      "Enter a number:5\n",
      "Factorial of 5 is 120\n"
     ]
    }
   ],
   "source": [
    "#2.\tWrite a Python Program to Find Factorial of Number Using Recursion?\n",
    "def fact(n):\n",
    "    if n==0:\n",
    "        return 1\n",
    "    else:\n",
    "        return (n*fact(n-1))\n",
    "    \n",
    "n = int(input(\"Enter a number:\"))\n",
    "Result = fact(n)\n",
    "print(\"Factorial of\", n ,\"is\", Result)\n"
   ]
  },
  {
   "cell_type": "code",
   "execution_count": 16,
   "id": "01e8f896",
   "metadata": {},
   "outputs": [
    {
     "name": "stdout",
     "output_type": "stream",
     "text": [
      "Enter your weight in Kg:50\n",
      "Enter your height in m:1.58\n",
      "20.028841531805796\n"
     ]
    }
   ],
   "source": [
    "#3.\tWrite a Python Program to calculate your Body Mass Index?\n",
    "\n",
    "Weight = float(input(\"Enter your weight in Kg:\"))\n",
    "Height = float(input(\"Enter your height in m:\"))\n",
    "\n",
    "BMI = Weight/(Height**2)\n",
    "\n",
    "print(BMI)"
   ]
  },
  {
   "cell_type": "code",
   "execution_count": 18,
   "id": "20ba8f25",
   "metadata": {},
   "outputs": [
    {
     "name": "stdout",
     "output_type": "stream",
     "text": [
      "Enter a number:4\n",
      "Natural log of 4 is:1.3862943611198906\n"
     ]
    }
   ],
   "source": [
    "#4.\tWrite a Python Program to calculate the natural logarithm of any number?\n",
    "\n",
    "#Natural log takes only 1 argument\n",
    "import math\n",
    "Num = int(input(\"Enter a number:\"))\n",
    "print(\"Natural log of\", Num , \"is:\" , end =\"\")\n",
    "print(math.log(Num))\n"
   ]
  },
  {
   "cell_type": "code",
   "execution_count": 20,
   "id": "b9ec95b5",
   "metadata": {},
   "outputs": [
    {
     "name": "stdout",
     "output_type": "stream",
     "text": [
      "Enter till how many terms you want the sum of cubes3\n",
      "36\n"
     ]
    }
   ],
   "source": [
    "#5.\tWrite a Python Program for cube sum of first n natural numbers?\n",
    "\n",
    "Terms = int(input(\"Enter till how many terms you want the sum of cubes\"))\n",
    "sum =0\n",
    "for i in range(1,Terms+1):\n",
    "   sum = sum+pow(i,3)\n",
    "print(sum)\n"
   ]
  },
  {
   "cell_type": "code",
   "execution_count": null,
   "id": "cdff94dc",
   "metadata": {},
   "outputs": [],
   "source": []
  }
 ],
 "metadata": {
  "kernelspec": {
   "display_name": "Python 3 (ipykernel)",
   "language": "python",
   "name": "python3"
  },
  "language_info": {
   "codemirror_mode": {
    "name": "ipython",
    "version": 3
   },
   "file_extension": ".py",
   "mimetype": "text/x-python",
   "name": "python",
   "nbconvert_exporter": "python",
   "pygments_lexer": "ipython3",
   "version": "3.9.7"
  }
 },
 "nbformat": 4,
 "nbformat_minor": 5
}
